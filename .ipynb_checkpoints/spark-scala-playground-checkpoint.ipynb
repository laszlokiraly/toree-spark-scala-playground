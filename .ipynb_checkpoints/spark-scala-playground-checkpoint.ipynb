{
 "cells": [
  {
   "cell_type": "code",
   "execution_count": 1,
   "id": "051480b1",
   "metadata": {},
   "outputs": [],
   "source": [
    "import scala.io.Source\n",
    "import scala.io.Codec\n",
    "\n",
    "import org.apache.spark.rdd.RDD"
   ]
  },
  {
   "cell_type": "code",
   "execution_count": 2,
   "id": "8322f34e",
   "metadata": {},
   "outputs": [
    {
     "data": {
      "text/plain": [
       "spark = org.apache.spark.sql.SparkSession@75add937\n",
       "sc = org.apache.spark.SparkContext@763cafd9\n"
      ]
     },
     "metadata": {},
     "output_type": "display_data"
    },
    {
     "data": {
      "text/plain": [
       "org.apache.spark.SparkContext@763cafd9"
      ]
     },
     "execution_count": 2,
     "metadata": {},
     "output_type": "execute_result"
    }
   ],
   "source": [
    "val spark = SparkSession.builder()\n",
    "  .master(\"local\")\n",
    "  .appName(\"Spark Scala Playground\")\n",
    "  .getOrCreate()\n",
    "val sc = spark.sparkContext"
   ]
  },
  {
   "cell_type": "code",
   "execution_count": 3,
   "id": "b50ae0a7",
   "metadata": {},
   "outputs": [
    {
     "data": {
      "text/plain": [
       "3.3.0"
      ]
     },
     "execution_count": 3,
     "metadata": {},
     "output_type": "execute_result"
    }
   ],
   "source": [
    "spark.version"
   ]
  },
  {
   "cell_type": "code",
   "execution_count": 4,
   "id": "e0bfae22",
   "metadata": {},
   "outputs": [
    {
     "data": {
      "text/plain": [
       "basePath = /mnt/project/data\n"
      ]
     },
     "metadata": {},
     "output_type": "display_data"
    },
    {
     "data": {
      "text/plain": [
       "/mnt/project/data"
      ]
     },
     "execution_count": 4,
     "metadata": {},
     "output_type": "execute_result"
    }
   ],
   "source": [
    "val basePath = System.getProperty(\"user.dir\") + \"/data\""
   ]
  },
  {
   "cell_type": "markdown",
   "id": "73206f97",
   "metadata": {},
   "source": [
    "# Coursera Big Data Analysis with Scala and Spark\n",
    "\n",
    "Objects/Classes from https://moocs.scala-lang.org/~dockermoocs/handouts/scala-3/wikipedia.zip, adapted for notbook\n",
    "\n",
    "Data from https://moocs.scala-lang.org/~dockermoocs/bigdata/wikipedia-grading.dat\n"
   ]
  },
  {
   "cell_type": "code",
   "execution_count": 5,
   "id": "2379a0e0",
   "metadata": {},
   "outputs": [
    {
     "data": {
      "text/plain": [
       "defined class WikipediaArticle\n"
      ]
     },
     "metadata": {},
     "output_type": "display_data"
    }
   ],
   "source": [
    "case class WikipediaArticle(title: String, text: String) {\n",
    "  /**\n",
    "    * @return Whether the text of this article mentions `lang` or not\n",
    "    * @param lang Language to look for (e.g. \"Scala\")\n",
    "    */\n",
    "  def mentionsLanguage(lang: String): Boolean = text.split(' ').contains(lang)\n",
    "}"
   ]
  },
  {
   "cell_type": "code",
   "execution_count": 6,
   "id": "6f80060b",
   "metadata": {},
   "outputs": [
    {
     "data": {
      "text/plain": [
       "defined object WikipediaData\n"
      ]
     },
     "metadata": {},
     "output_type": "display_data"
    }
   ],
   "source": [
    "object WikipediaData {\n",
    "\n",
    "  def lines: List[String] = {\n",
    "    val fileName = s\"${basePath}/wikipedia-grading.dat\"\n",
    "    val source = Source.fromFile(fileName, Codec.UTF8.name)\n",
    "    Source.fromFile(fileName).getLines().toList\n",
    "  }\n",
    "\n",
    "  def parse(line: String): WikipediaArticle = {\n",
    "    val subs = \"</title><text>\"\n",
    "    val i = line.indexOf(subs)\n",
    "    val title = line.substring(14, i)\n",
    "    val text  = line.substring(i + subs.length, line.length-16)\n",
    "    WikipediaArticle(title, text)\n",
    "  }\n",
    "}"
   ]
  },
  {
   "cell_type": "code",
   "execution_count": 7,
   "id": "457e341c",
   "metadata": {},
   "outputs": [
    {
     "data": {
      "text/plain": [
       "wikiRdd = ParallelCollectionRDD[0] at parallelize at <console>:30\n"
      ]
     },
     "metadata": {},
     "output_type": "display_data"
    },
    {
     "data": {
      "text/plain": [
       "ParallelCollectionRDD[0] at parallelize at <console>:30"
      ]
     },
     "execution_count": 7,
     "metadata": {},
     "output_type": "execute_result"
    }
   ],
   "source": [
    "val wikiRdd: RDD[WikipediaArticle] = sc.parallelize(WikipediaData.lines.map(line => WikipediaData.parse(line)))"
   ]
  },
  {
   "cell_type": "code",
   "execution_count": 8,
   "id": "56ca6a55",
   "metadata": {},
   "outputs": [
    {
     "data": {
      "text/plain": [
       "24"
      ]
     },
     "execution_count": 8,
     "metadata": {},
     "output_type": "execute_result"
    }
   ],
   "source": [
    "wikiRdd.filter(article => article.mentionsLanguage(\"Scala\")).count.intValue"
   ]
  },
  {
   "cell_type": "markdown",
   "id": "0332b859",
   "metadata": {},
   "source": [
    "# Spark Documentation Examples\n",
    "https://spark.apache.org/docs/latest/sql-getting-started.html"
   ]
  },
  {
   "cell_type": "code",
   "execution_count": 9,
   "id": "814fb4aa",
   "metadata": {
    "scrolled": true
   },
   "outputs": [
    {
     "data": {
      "text/plain": [
       "df = [Name: string, age: bigint]\n"
      ]
     },
     "metadata": {},
     "output_type": "display_data"
    },
    {
     "name": "stdout",
     "output_type": "stream",
     "text": [
      "+-------+----+\n",
      "|   Name| age|\n",
      "+-------+----+\n",
      "|Andreas|null|\n",
      "|Herbert|  21|\n",
      "| Norman|  29|\n",
      "+-------+----+\n",
      "\n"
     ]
    },
    {
     "data": {
      "text/plain": [
       "[Name: string, age: bigint]"
      ]
     },
     "execution_count": 9,
     "metadata": {},
     "output_type": "execute_result"
    }
   ],
   "source": [
    "val df = spark.read.json(s\"${basePath}/people.json\")\n",
    "df.show()"
   ]
  },
  {
   "cell_type": "code",
   "execution_count": 10,
   "id": "104f0723",
   "metadata": {},
   "outputs": [],
   "source": [
    "// This import is needed to use the $-notation\n",
    "import spark.implicits._"
   ]
  },
  {
   "cell_type": "code",
   "execution_count": 11,
   "id": "5582a896",
   "metadata": {},
   "outputs": [
    {
     "name": "stdout",
     "output_type": "stream",
     "text": [
      "root\n",
      " |-- Name: string (nullable = true)\n",
      " |-- age: long (nullable = true)\n",
      "\n"
     ]
    }
   ],
   "source": [
    "// Print the schema in a tree format\n",
    "df.printSchema()"
   ]
  },
  {
   "cell_type": "code",
   "execution_count": 12,
   "id": "5a911eb2",
   "metadata": {},
   "outputs": [
    {
     "name": "stdout",
     "output_type": "stream",
     "text": [
      "+-------+\n",
      "|   Name|\n",
      "+-------+\n",
      "|Andreas|\n",
      "|Herbert|\n",
      "| Norman|\n",
      "+-------+\n",
      "\n"
     ]
    }
   ],
   "source": [
    "// Select only the \"name\" column\n",
    "df.select(\"Name\").show()"
   ]
  },
  {
   "cell_type": "code",
   "execution_count": 13,
   "id": "4db4a3ba",
   "metadata": {},
   "outputs": [
    {
     "name": "stdout",
     "output_type": "stream",
     "text": [
      "+-------+---------+\n",
      "|   name|(age + 1)|\n",
      "+-------+---------+\n",
      "|Andreas|     null|\n",
      "|Herbert|       22|\n",
      "| Norman|       30|\n",
      "+-------+---------+\n",
      "\n"
     ]
    }
   ],
   "source": [
    "// Select everybody, but increment the age by 1\n",
    "df.select($\"name\", $\"age\" + 1).show()"
   ]
  },
  {
   "cell_type": "code",
   "execution_count": 14,
   "id": "fb6bbeef",
   "metadata": {},
   "outputs": [
    {
     "name": "stdout",
     "output_type": "stream",
     "text": [
      "+------+---+\n",
      "|  Name|age|\n",
      "+------+---+\n",
      "|Norman| 29|\n",
      "+------+---+\n",
      "\n"
     ]
    }
   ],
   "source": [
    "// Select people older than 21\n",
    "df.filter($\"age\" > 21).show()"
   ]
  },
  {
   "cell_type": "code",
   "execution_count": 15,
   "id": "b30752f3",
   "metadata": {},
   "outputs": [
    {
     "name": "stdout",
     "output_type": "stream",
     "text": [
      "+----+-----+\n",
      "| age|count|\n",
      "+----+-----+\n",
      "|  29|    1|\n",
      "|null|    1|\n",
      "|  21|    1|\n",
      "+----+-----+\n",
      "\n"
     ]
    }
   ],
   "source": [
    "// Count people by age\n",
    "df.groupBy(\"age\").count().show()"
   ]
  },
  {
   "cell_type": "code",
   "execution_count": null,
   "id": "f49a8b88",
   "metadata": {},
   "outputs": [],
   "source": []
  }
 ],
 "metadata": {
  "kernelspec": {
   "display_name": "Apache Toree - Scala",
   "language": "scala",
   "name": "apache_toree_scala"
  },
  "language_info": {
   "codemirror_mode": "text/x-scala",
   "file_extension": ".scala",
   "mimetype": "text/x-scala",
   "name": "scala",
   "pygments_lexer": "scala",
   "version": "2.12.15"
  }
 },
 "nbformat": 4,
 "nbformat_minor": 5
}
